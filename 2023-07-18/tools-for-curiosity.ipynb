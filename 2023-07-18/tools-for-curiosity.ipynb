{
 "cells": [
  {
   "cell_type": "markdown",
   "id": "860a9169",
   "metadata": {},
   "source": [
    "# Tools for curiosity"
   ]
  },
  {
   "cell_type": "code",
   "execution_count": 59,
   "id": "150cac26",
   "metadata": {},
   "outputs": [],
   "source": [
    "import pandas as pd\n",
    "import numpy as np\n",
    "import plotly.express as px\n",
    "import openai\n",
    "from openai.embeddings_utils import get_embedding\n",
    "from sklearn.manifold import TSNE\n",
    "import plotly.io as pio\n",
    "import umap\n",
    "pio.renderers.default='notebook'\n",
    "import textwrap\n",
    "import plotly.graph_objects as go\n",
    "\n",
    "\n",
    "with open('../openai_secret_key') as r:\n",
    "    openai_secret_key = r.readline().strip()\n",
    "    openai.api_key = openai_secret_key"
   ]
  },
  {
   "cell_type": "code",
   "execution_count": 158,
   "id": "3f4e7a9a",
   "metadata": {},
   "outputs": [],
   "source": [
    "tools_filename = 'TFC 23-7-19.csv'\n",
    "tools = pd.read_csv(tools_filename, keep_default_na=False)\n",
    "\n",
    "tools['prompt_text'] = tools.apply(\n",
    "    lambda x: x.Name + ': ' + x.Description, axis=1)\n",
    "tools['prompt_text_tags'] = tools.apply(\n",
    "    lambda x: x.prompt_text + ' Tags: ' + x.Tags, axis=1)\n",
    "tools['hover_text'] = tools.apply(\n",
    "    lambda x: x.Name + ':<br>' + '<br>'.join(textwrap.wrap(x.Description, width=50)), axis=1)"
   ]
  },
  {
   "cell_type": "code",
   "execution_count": 162,
   "id": "044d8309",
   "metadata": {},
   "outputs": [],
   "source": [
    "# embedding model parameters\n",
    "embedding_model = \"text-embedding-ada-002\"\n",
    "\n",
    "embeddings = openai.Embedding.create(input=tools.prompt_text_tags.tolist(), model=embedding_model)['data']\n",
    "tools['embedding'] = [e['embedding'] for e in embeddings]"
   ]
  },
  {
   "cell_type": "code",
   "execution_count": 165,
   "id": "5f21d6b8",
   "metadata": {},
   "outputs": [],
   "source": [
    "tools.to_json('tools_embeddings_23-7-20.json')"
   ]
  },
  {
   "cell_type": "code",
   "execution_count": 166,
   "id": "2484face",
   "metadata": {},
   "outputs": [],
   "source": [
    "tools = pd.read_json('tools_embeddings_23-7-20.json')"
   ]
  },
  {
   "cell_type": "code",
   "execution_count": 47,
   "id": "19bc8b59",
   "metadata": {},
   "outputs": [],
   "source": [
    "tags = []\n",
    "for i, tool in tools.iterrows():\n",
    "    tags += [t for t in str.split(tool.Tags, ', ') if t not in tags]"
   ]
  },
  {
   "cell_type": "code",
   "execution_count": 163,
   "id": "7f1445b9",
   "metadata": {},
   "outputs": [
    {
     "name": "stderr",
     "output_type": "stream",
     "text": [
      "/Users/dani/.virtualenvs/research/lib/python3.11/site-packages/umap/umap_.py:2344: UserWarning:\n",
      "\n",
      "n_neighbors is larger than the dataset size; truncating to X.shape[0] - 1\n",
      "\n"
     ]
    }
   ],
   "source": [
    "embeddings_matrix = np.array(tools.embedding.values.tolist())\n",
    "fit = umap.UMAP(n_neighbors=35, \n",
    "                min_dist=0.01, \n",
    "                n_components=2, \n",
    "                metric='cosine',\n",
    "                spread=1,\n",
    "                random_state=42,\n",
    "                low_memory=False)\n",
    "u = fit.fit_transform(embeddings_matrix)\n",
    "tools['vis_dim1'] = u[:,0]\n",
    "tools['vis_dim2'] = u[:,1]\n"
   ]
  },
  {
   "cell_type": "code",
   "execution_count": 99,
   "id": "b91523a0",
   "metadata": {},
   "outputs": [
    {
     "ename": "TypeError",
     "evalue": "scatter() got an unexpected keyword argument 'hovertemplate'",
     "output_type": "error",
     "traceback": [
      "\u001b[0;31m---------------------------------------------------------------------------\u001b[0m",
      "\u001b[0;31mTypeError\u001b[0m                                 Traceback (most recent call last)",
      "Cell \u001b[0;32mIn[99], line 1\u001b[0m\n\u001b[0;32m----> 1\u001b[0m fig \u001b[38;5;241m=\u001b[39m \u001b[43mpx\u001b[49m\u001b[38;5;241;43m.\u001b[39;49m\u001b[43mscatter\u001b[49m\u001b[43m(\u001b[49m\u001b[43mtools\u001b[49m\u001b[43m,\u001b[49m\u001b[43m \u001b[49m\n\u001b[1;32m      2\u001b[0m \u001b[43m                 \u001b[49m\u001b[43mx\u001b[49m\u001b[38;5;241;43m=\u001b[39;49m\u001b[38;5;124;43m'\u001b[39;49m\u001b[38;5;124;43mvis_dim1\u001b[39;49m\u001b[38;5;124;43m'\u001b[39;49m\u001b[43m,\u001b[49m\u001b[43m \u001b[49m\u001b[43my\u001b[49m\u001b[38;5;241;43m=\u001b[39;49m\u001b[38;5;124;43m'\u001b[39;49m\u001b[38;5;124;43mvis_dim2\u001b[39;49m\u001b[38;5;124;43m'\u001b[39;49m\u001b[43m,\u001b[49m\u001b[43m \u001b[49m\n\u001b[1;32m      3\u001b[0m \u001b[43m                 \u001b[49m\u001b[43mcustom_data\u001b[49m\u001b[38;5;241;43m=\u001b[39;49m\u001b[43m[\u001b[49m\u001b[38;5;124;43m'\u001b[39;49m\u001b[38;5;124;43mhover_text\u001b[39;49m\u001b[38;5;124;43m'\u001b[39;49m\u001b[43m]\u001b[49m\u001b[43m,\u001b[49m\n\u001b[1;32m      4\u001b[0m \u001b[43m                 \u001b[49m\u001b[43mhover_name\u001b[49m\u001b[38;5;241;43m=\u001b[39;49m\u001b[38;5;124;43m'\u001b[39;49m\u001b[38;5;124;43mhover_text\u001b[39;49m\u001b[38;5;124;43m'\u001b[39;49m\u001b[43m,\u001b[49m\u001b[43m \u001b[49m\n\u001b[1;32m      5\u001b[0m \u001b[43m                 \u001b[49m\u001b[43mtemplate\u001b[49m\u001b[38;5;241;43m=\u001b[39;49m\u001b[38;5;124;43m'\u001b[39;49m\u001b[38;5;124;43mplotly_dark\u001b[39;49m\u001b[38;5;124;43m'\u001b[39;49m\u001b[43m,\u001b[49m\n\u001b[1;32m      6\u001b[0m \u001b[43m                 \u001b[49m\u001b[43mhovertemplate\u001b[49m\u001b[38;5;241;43m=\u001b[39;49m\u001b[38;5;124;43m'\u001b[39;49m\u001b[38;5;124;43m%\u001b[39;49m\u001b[38;5;132;43;01m{customdata[0]}\u001b[39;49;00m\u001b[38;5;124;43m}<extra></extra>\u001b[39;49m\u001b[38;5;124;43m'\u001b[39;49m\n\u001b[1;32m      7\u001b[0m \u001b[43m                \u001b[49m\u001b[43m)\u001b[49m\n\u001b[1;32m      8\u001b[0m fig\u001b[38;5;241m.\u001b[39mupdate_traces(textposition\u001b[38;5;241m=\u001b[39m\u001b[38;5;124m'\u001b[39m\u001b[38;5;124mtop center\u001b[39m\u001b[38;5;124m'\u001b[39m)\n\u001b[1;32m      9\u001b[0m fig\u001b[38;5;241m.\u001b[39mupdate_xaxes(showgrid\u001b[38;5;241m=\u001b[39m\u001b[38;5;28;01mFalse\u001b[39;00m)\n",
      "\u001b[0;31mTypeError\u001b[0m: scatter() got an unexpected keyword argument 'hovertemplate'"
     ]
    }
   ],
   "source": [
    "fig = px.scatter(tools, \n",
    "                 x='vis_dim1', y='vis_dim2', \n",
    "                 custom_data=['hover_text'],\n",
    "                 hover_name='hover_text', \n",
    "                 template='plotly_dark',\n",
    "                 hovertemplate='%{customdata[0]}}<extra></extra>'\n",
    "                )\n",
    "fig.update_traces(textposition='top center')\n",
    "fig.update_xaxes(showgrid=False)\n",
    "fig.update_yaxes(showgrid=False)\n",
    "fig.update(layout_coloraxis_showscale=False)\n",
    "fig.update_layout(showlegend=False)\n",
    "fig.update_xaxes(visible=False)\n",
    "fig.update_yaxes(visible=False)\n",
    "fig.update_traces(hovertemplate=\"%{customdata[0]}}<extra></extra>\")\n",
    "fig.update_layout(\n",
    "    font=dict(\n",
    "        size=11,  # Set the font size here\n",
    "    )\n",
    ")\n",
    "for tag in tags:\n",
    "    tag_shape = get_tag_shape(tag, tools)\n",
    "    fig.add_trace(tag_shape)\n",
    "fig.show(renderer='browser')"
   ]
  },
  {
   "cell_type": "markdown",
   "id": "3ecce316",
   "metadata": {},
   "source": [
    "# Polygon shapes per tag"
   ]
  },
  {
   "cell_type": "code",
   "execution_count": 84,
   "id": "a069a94f",
   "metadata": {},
   "outputs": [],
   "source": [
    "tag = tags[0]\n",
    "tag_tools = tools.loc[tools.Tags.str.contains(tag)]\n",
    "fig = go.Figure(go.Scatter(x=tag_tools.vis_dim1, y=tag_tools.vis_dim2, \n",
    "                           fill=\"toself\", \n",
    "                           line={'width': 0},\n",
    "                           marker={'opacity': 0},\n",
    "                           #hoverinfo='text',\n",
    "                           hoveron='fills',\n",
    "                           hovertemplate='${tag}<extra></extra>',\n",
    "                           text=tag\n",
    "                           ))\n",
    "fig.update_traces(textposition='top center')\n",
    "fig.update_xaxes(showgrid=False)\n",
    "fig.update_yaxes(showgrid=False)\n",
    "fig.update(layout_coloraxis_showscale=False)\n",
    "fig.update_layout(showlegend=False)\n",
    "fig.update_xaxes(visible=False)\n",
    "fig.update_yaxes(visible=False)\n",
    "fig.update_layout(\n",
    "    font=dict(\n",
    "        size=11,  # Set the font size here\n",
    "    )\n",
    ")\n",
    "\n",
    "fig.show(renderer='browser')"
   ]
  },
  {
   "cell_type": "code",
   "execution_count": 141,
   "id": "ce2afd75",
   "metadata": {},
   "outputs": [],
   "source": [
    "def get_tag_shape(tag, tools):\n",
    "    tag_tools = tools.loc[tools.Tags.str.contains(tag)]\n",
    "    return go.Scatter(x=tag_tools.vis_dim1, y=tag_tools.vis_dim2, \n",
    "                      fill=\"toself\",\n",
    "                      opacity=0.1,\n",
    "                      line={'width': 0},\n",
    "                      marker={'opacity': 0},\n",
    "                      name=tag,\n",
    "                      hoveron='fills',\n",
    "                     )"
   ]
  },
  {
   "cell_type": "code",
   "execution_count": 164,
   "id": "06a3134b",
   "metadata": {
    "scrolled": true
   },
   "outputs": [],
   "source": [
    "traces = []\n",
    "\n",
    "for tag in []:\n",
    "    traces.append(get_tag_shape(tag, tools))\n",
    "\n",
    "scatter = go.Scatter(x=tools.vis_dim1, y=tools.vis_dim2,\n",
    "                     mode='markers',\n",
    "                     text=tools.hover_text,\n",
    "                     customdata=tools.hover_text,\n",
    "                     hovertemplate='%{customdata}<extra></extra>',\n",
    "                    )\n",
    "traces.append(scatter)\n",
    "fig = go.Figure(data=traces, layout={'template': 'plotly_dark'})\n",
    "\n",
    "fig.update_traces(textposition='top center')\n",
    "fig.update_xaxes(showgrid=False)\n",
    "fig.update_yaxes(showgrid=False)\n",
    "fig.update(layout_coloraxis_showscale=False)\n",
    "fig.update_layout(showlegend=False)\n",
    "fig.update_xaxes(visible=False)\n",
    "fig.update_yaxes(visible=False)\n",
    "fig.update_layout(\n",
    "    font=dict(\n",
    "        size=11,  # Set the font size here\n",
    "    )\n",
    ")\n",
    "\n",
    "fig.show(renderer='browser')"
   ]
  },
  {
   "cell_type": "code",
   "execution_count": 121,
   "id": "a1507053",
   "metadata": {},
   "outputs": [],
   "source": [
    "scatter = go.Scatter(x=tools.vis_dim1, y=tools.vis_dim2,\n",
    "                     mode='markers',\n",
    "                     text=tools.hover_text,\n",
    "                     customdata=tools.hover_text,\n",
    "                     hovertemplate='%{customdata}<extra></extra>',\n",
    "                    )\n",
    "fig = go.Figure(data=[scatter], layout={'template': 'plotly_dark'})\n",
    "fig.show(renderer='browser')"
   ]
  },
  {
   "cell_type": "markdown",
   "id": "69d1f956",
   "metadata": {},
   "source": [
    "# Constellations per tag"
   ]
  },
  {
   "cell_type": "code",
   "execution_count": 167,
   "id": "ce6d256d",
   "metadata": {},
   "outputs": [],
   "source": [
    "tag = tags[0]\n",
    "tag_tools = tools.loc[tools.Tags.str.contains(tag)]"
   ]
  },
  {
   "cell_type": "code",
   "execution_count": null,
   "id": "5966b60c",
   "metadata": {},
   "outputs": [],
   "source": []
  }
 ],
 "metadata": {
  "kernelspec": {
   "display_name": "Python 3 (ipykernel)",
   "language": "python",
   "name": "python3"
  },
  "language_info": {
   "codemirror_mode": {
    "name": "ipython",
    "version": 3
   },
   "file_extension": ".py",
   "mimetype": "text/x-python",
   "name": "python",
   "nbconvert_exporter": "python",
   "pygments_lexer": "ipython3",
   "version": "3.11.4"
  }
 },
 "nbformat": 4,
 "nbformat_minor": 5
}
