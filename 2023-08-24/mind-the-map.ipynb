{
 "cells": [
  {
   "cell_type": "code",
   "execution_count": 1,
   "id": "8ffb5894",
   "metadata": {},
   "outputs": [],
   "source": [
    "from langchain.llms import OpenAI\n",
    "from langchain.chat_models import ChatOpenAI\n",
    "\n",
    "from langchain.prompts.chat import (\n",
    "    ChatPromptTemplate,\n",
    "    SystemMessagePromptTemplate,\n",
    "    HumanMessagePromptTemplate,\n",
    ")\n",
    "\n",
    "from langchain.chains import LLMChain\n",
    "from langchain.schema import BaseOutputParser"
   ]
  },
  {
   "cell_type": "code",
   "execution_count": 6,
   "id": "c6508c5c",
   "metadata": {},
   "outputs": [],
   "source": [
    "with open('../openai_secret_key') as r:\n",
    "    openai_secret_key = r.readline().strip()\n",
    "    llm = OpenAI(openai_api_key=openai_secret_key)\n",
    "    chat_model = ChatOpenAI(openai_api_key=openai_secret_key, model_name='gpt-4')"
   ]
  },
  {
   "cell_type": "code",
   "execution_count": 7,
   "id": "3330e928",
   "metadata": {},
   "outputs": [],
   "source": [
    "class CommaSeparatedListOutputParser(BaseOutputParser):\n",
    "    \"\"\"Parse the output of an LLM call to a comma-separated list.\"\"\"\n",
    "\n",
    "\n",
    "    def parse(self, text: str):\n",
    "        \"\"\"Parse the output of an LLM call.\"\"\"\n",
    "        return text.strip().split(\", \")"
   ]
  },
  {
   "cell_type": "code",
   "execution_count": 8,
   "id": "1757494d",
   "metadata": {},
   "outputs": [],
   "source": [
    "template = \"\"\"You are a helpful assistant that operates a question-and-answer game. The game helps players tackle big questions that are hard to answer by breaking them down into simpler questions. \n",
    "\n",
    "Big questions are the most important to answer, but because they're too big, we don't know how to start answering them. \n",
    "Curiosity is an interesting thing: in a way, it's a need for knowledge, an itch that emerges in response to ambiguity or uncertainty and urges us to resolve it. \n",
    "The thing is, if the ambiguity and uncertainty are too big, as is often the case with  big life questions, the itch grows and turns into discomfort, stress and even fear, deterring us from searching the answer. \n",
    "The game that you operate breaks down those big questions into simpler ones, so that, instead of scaring the user, they tickle their curiosity and make them lean into the question.\n",
    "\n",
    "The user will input a question and you will return TEN smaller questions that stimulate their curiosity, are easier to answer and are worth exploring in order for the user to make progress on the big question. \n",
    "Respond with questions that break down the big question into smaller, more manageable scopes. \n",
    "Respond with questions that are likely to seem novel to them, to surprise them, to approach the big question from an unusual perspective, or to challenge their current set of ideas and assumptions. \n",
    "\n",
    "Reply ONLY with a list of the break-down questions and nothing more.\n",
    "\"\"\"\n",
    "system_message_prompt = SystemMessagePromptTemplate.from_template(template)\n",
    "human_template = \"{text}\"\n",
    "human_message_prompt = HumanMessagePromptTemplate.from_template(human_template)\n",
    "\n",
    "chat_prompt = ChatPromptTemplate.from_messages([system_message_prompt, human_message_prompt])\n",
    "\n",
    "chain = LLMChain(\n",
    "    llm=chat_model,\n",
    "    prompt=chat_prompt,\n",
    "    output_parser=CommaSeparatedListOutputParser()\n",
    ")\n"
   ]
  },
  {
   "cell_type": "code",
   "execution_count": 9,
   "id": "4e9a011f",
   "metadata": {},
   "outputs": [
    {
     "name": "stdout",
     "output_type": "stream",
     "text": [
      "1. What are the top five subjects that you are most curious about?\n",
      "2. Have you ever considered the financial income potential of your various interests?\n",
      "3. Are there any subjects you're interested in that provide opportunities for entrepreneurial ventures?\n",
      "4. What are some ways you could combine multiple interests to create a unique career path?\n",
      "5. Have you tried to identify any patterns or common themes in the things that you find interesting?\n",
      "6. What would you be willing to sacrifice in order to pursue a career in a field you're passionate about?\n",
      "7. How important is financial stability to you compared to job satisfaction?\n",
      "8. Have you spoken to professionals in the fields you're interested in to understand their financial realities?\n",
      "9. Are there any emerging fields related to your interests that might have good future financial prospects?\n",
      "10. Would you be open to the idea of having a \"day job\" that guarantees financial stability while pursuing your interests on the side?\n"
     ]
    }
   ],
   "source": [
    "big_question = \"\"\"\n",
    "I want to spend my professional life working on things that I'm incredibly curious about and interested in, but I find nearly everything interesting (I have nearly endless curiosity, for better or for worse), and at the same time I'm not sure what subject will allow me to make a financially stable living. \n",
    "What should I do?\n",
    "\"\"\"\n",
    "answers = chain.run(big_question)\n",
    "for answer in answers:\n",
    "    print(answer)"
   ]
  },
  {
   "cell_type": "code",
   "execution_count": 34,
   "id": "531853b4",
   "metadata": {},
   "outputs": [
    {
     "name": "stdout",
     "output_type": "stream",
     "text": [
      "1. What is the overall style and aesthetic you want to achieve for your website?\n",
      "2. What are the main characteristics you are looking for in a monospace font (e.g.\n",
      "readability\n",
      "uniqueness\n",
      "simplicity)?\n",
      "3. What are the specific use cases for the monospace font on your website (e.g.\n",
      "code snippets\n",
      "headings\n",
      "body text)?\n",
      "4. Have you considered the compatibility and availability of the chosen monospace font across different devices and browsers?\n"
     ]
    }
   ],
   "source": [
    "big_question = \"\"\"\n",
    "What kind of monospace font should I use for my website?\n",
    "\"\"\"\n",
    "answers = chain.run(big_question)\n",
    "for answer in answers:\n",
    "    print(answer)"
   ]
  },
  {
   "cell_type": "markdown",
   "id": "eede282c",
   "metadata": {},
   "source": [
    "# Separate agents for generating and choosing questions"
   ]
  },
  {
   "cell_type": "code",
   "execution_count": 37,
   "id": "8dc5e914",
   "metadata": {},
   "outputs": [],
   "source": [
    "from langchain.chains.constitutional_ai.models import ConstitutionalPrinciple\n",
    "from langchain.chains.constitutional_ai.base import ConstitutionalChain"
   ]
  },
  {
   "cell_type": "code",
   "execution_count": 57,
   "id": "bb923248",
   "metadata": {},
   "outputs": [],
   "source": [
    "template = \"\"\"You are a helpful assistant that operates a question-and-answer game. The game helps players tackle big questions that are hard to answer by breaking them down into simpler questions. \n",
    "\n",
    "Big questions are the most important to answer, but because they're too big, we don't know how to start answering them. \n",
    "Curiosity is an interesting thing: in a way, it's a need for knowledge, an itch that emerges in response to ambiguity or uncertainty and urges us to resolve it. \n",
    "The thing is, if the ambiguity and uncertainty are too big, as is often the case with  big life questions, the itch grows and turns into discomfort, stress and even fear, deterring us from searching the answer. \n",
    "The game that you operate breaks down those big questions into simpler ones, so that, instead of scaring the user, they tickle their curiosity and make them lean into the question.\n",
    "\n",
    "The user will input a question and you will return TEN smaller questions that stimulate their curiosity, are easier to answer and are worth exploring in order for the user to make progress on the big question. \n",
    "Respond with questions that break down the big question into smaller, more manageable scopes. \n",
    "Respond with questions that are likely to seem novel to them, to surprise them, to approach the big question from an unusual perspective, or to challenge their current set of ideas and assumptions. \n",
    "\n",
    "Reply ONLY with a list of the break-down questions and nothing more.\n",
    "\"\"\"\n",
    "system_message_prompt = SystemMessagePromptTemplate.from_template(template)\n",
    "human_template = \"{text}\"\n",
    "human_message_prompt = HumanMessagePromptTemplate.from_template(human_template)\n",
    "\n",
    "chat_prompt = ChatPromptTemplate.from_messages([system_message_prompt, human_message_prompt])\n",
    "\n",
    "chain = LLMChain(\n",
    "    llm=chat_model,\n",
    "    prompt=chat_prompt,\n",
    ")"
   ]
  },
  {
   "cell_type": "code",
   "execution_count": 53,
   "id": "502b0292",
   "metadata": {},
   "outputs": [],
   "source": [
    "novel_principle = ConstitutionalPrinciple(\n",
    "    name='Novel Principle',\n",
    "    critique_request='The response should only list four questions. From all the questions listed in the response, identify the degree to which the questions returned by the model are likely to stimulate the user\\'s curiosity, by e.g. providing the user with a novel point of view, surprising them, challenging their current knowledge or presenting unexpected alternatives.',\n",
    "    revision_request='Please limit the model response to include only four questions, choosing the four that are most likely to stimulate the user\\'s curiosity.',\n",
    ")\n",
    "\n",
    "constitutional_chain = ConstitutionalChain.from_llm(\n",
    "    chain=chain,\n",
    "    constitutional_principles=[novel_principle],\n",
    "    llm=llm,\n",
    "    verbose=True,\n",
    "    return_intermediate_steps=True,\n",
    "    output_parser=CommaSeparatedListOutputParser()\n",
    ")\n"
   ]
  },
  {
   "cell_type": "code",
   "execution_count": 54,
   "id": "c32702a7",
   "metadata": {},
   "outputs": [
    {
     "name": "stdout",
     "output_type": "stream",
     "text": [
      "\n",
      "\n",
      "\u001b[1m> Entering new ConstitutionalChain chain...\u001b[0m\n",
      "\u001b[33;1m\u001b[1;3mInitial response: 1. What are some specific areas or fields that you have been particularly curious about in the past?\n",
      "2. Can you identify any patterns or common themes in the things that you find interesting?\n",
      "3. Have you considered exploring your interests through internships or volunteer opportunities to gain a deeper understanding of what it would be like to work in those areas?\n",
      "4. Are there any professionals or experts in the fields you are interested in that you could reach out to for informational interviews or mentorship?\n",
      "5. Have you researched the job market and demand for professionals in the fields that align with your interests?\n",
      "6. What transferable skills do you possess that could be applied to a variety of different fields or industries?\n",
      "7. Are there any emerging industries or areas of study that align with your interests and could provide future job opportunities?\n",
      "8. Have you considered the potential for career growth and advancement in the fields you are interested in?\n",
      "9. What are your financial goals and how do they align with your career aspirations?\n",
      "10. Are there any educational or training programs that could help you develop the necessary skills and knowledge to pursue your interests while also ensuring financial stability?\n",
      "\n",
      "\u001b[0m\n",
      "\u001b[1m> Finished chain.\u001b[0m\n"
     ]
    }
   ],
   "source": [
    "big_question = \"\"\"\n",
    "I want to spend my professional life working on things that I'm incredibly curious about and interested in, but I find nearly everything interesting (I have nearly endless curiosity, for better or for worse), and at the same time I'm not sure what subject will allow me to make a financially stable living. \n",
    "What should I do?\n",
    "\"\"\"\n",
    "response = constitutional_chain({'text': big_question})"
   ]
  },
  {
   "cell_type": "code",
   "execution_count": 56,
   "id": "6f7872d5",
   "metadata": {},
   "outputs": [
    {
     "name": "stdout",
     "output_type": "stream",
     "text": [
      "1. What are some specific areas or fields that you have been particularly curious about in the past?\n",
      "2. Can you identify any patterns or common themes in the things that you find interesting?\n",
      "3. Have you considered exploring your interests through internships or volunteer opportunities to gain a deeper understanding of what it would be like to work in those areas?\n",
      "4. Are there any professionals or experts in the fields you are interested in that you could reach out to for informational interviews or mentorship?\n",
      "5. Have you researched the job market and demand for professionals in the fields that align with your interests?\n",
      "6. What transferable skills do you possess that could be applied to a variety of different fields or industries?\n",
      "7. Are there any emerging industries or areas of study that align with your interests and could provide future job opportunities?\n",
      "8. Have you considered the potential for career growth and advancement in the fields you are interested in?\n",
      "9. What are your financial goals and how do they align with your career aspirations?\n",
      "10. Are there any educational or training programs that could help you develop the necessary skills and knowledge to pursue your interests while also ensuring financial stability?\n",
      "[(\"The questions returned by the model are likely to stimulate the user's curiosity by providing them with a novel point of view, challenging their current knowledge, and presenting unexpected alternatives. Questions 1, 3, 4, 5, 8, 9, and 10 all invite the user to think from a different perspective or consider alternative options. Questions 2 and 7 present the user with potential patterns and emerging industries, respectively, that could surprise them. No Critique Needed.\", '')]\n"
     ]
    }
   ],
   "source": [
    "print(response['output'])\n",
    "print(response['critiques_and_revisions'])"
   ]
  },
  {
   "cell_type": "code",
   "execution_count": null,
   "id": "d2bf3855",
   "metadata": {},
   "outputs": [],
   "source": []
  },
  {
   "cell_type": "markdown",
   "id": "22ea10a4",
   "metadata": {},
   "source": [
    "# Tweaking single prompt with ToM info, GPT-4"
   ]
  },
  {
   "cell_type": "code",
   "execution_count": 14,
   "id": "c82e5e07",
   "metadata": {},
   "outputs": [],
   "source": [
    "template = \"\"\"\n",
    "You are a subversive-minded brainstorming companion. Your job is to employ your theory of mind skills to operate a question-and-answer game.\n",
    "The game helps players tackle big questions that are hard to answer by breaking them down into simpler questions.\n",
    "\n",
    "Big questions are the most important to answer, but because they're too big, we don't know how to start answering them. \n",
    "Curiosity is an interesting thing: in a way, it's a need for knowledge, an itch that emerges in response to ambiguity or uncertainty and urges us to resolve it. \n",
    "The thing is, if the ambiguity and uncertainty are too big, as is often the case with  big life questions, the itch grows and turns into discomfort, stress and even fear, deterring us from searching the answer. \n",
    "The game that you operate breaks down those big questions into simpler ones, so that, instead of scaring the user, they tickle their curiosity and make them lean into the question.\n",
    "\n",
    "The user will input a question and you will return TEN smaller questions that stimulate their curiosity, are easier to answer and are worth exploring in order for the user to make progress on the big question. \n",
    "Respond with questions that break down the big question into smaller, more manageable scopes.\n",
    "Respond with questions that are atomic - ensure each question focuses solely on one clear and distinct topic or point, avoiding any elements that could introduce ambiguity or multiple interpretations.\n",
    "Respond with questions that are likely to seem novel to them, to surprise them, to approach the big question from an unusual perspective, or to challenge their current set of ideas and assumptions. \n",
    "\n",
    "Reply ONLY with a list of the break-down questions and nothing more.\n",
    "\"\"\"\n",
    "system_message_prompt = SystemMessagePromptTemplate.from_template(template)\n",
    "human_template = \"{text}\"\n",
    "human_message_prompt = HumanMessagePromptTemplate.from_template(human_template)\n",
    "\n",
    "chat_prompt = ChatPromptTemplate.from_messages([system_message_prompt, human_message_prompt])\n",
    "\n",
    "chain = LLMChain(\n",
    "    llm=chat_model,\n",
    "    prompt=chat_prompt,\n",
    "    output_parser=CommaSeparatedListOutputParser()\n",
    ")"
   ]
  },
  {
   "cell_type": "code",
   "execution_count": 15,
   "id": "98089fc1",
   "metadata": {
    "scrolled": false
   },
   "outputs": [
    {
     "name": "stdout",
     "output_type": "stream",
     "text": [
      "1. What are the top 5 subjects that you spend most of your free time exploring or learning about?\n",
      "2. Are there any particular topics that you've spent significant time studying or researching on your own?\n",
      "3. What topics or fields are you most confident about your knowledge and skills in?\n",
      "4. Can you identify any patterns or themes in the subjects that consistently pique your interest?\n",
      "5. What are the jobs or careers related to your interests that have a financially stable prospect?\n",
      "6. Have you considered speaking to professionals in the fields of your interest about their career paths and financial stability?\n",
      "7. Are there any ways to combine several of your interests into a unique career path?\n",
      "8. What are the potential risks and rewards of pursuing a career based on your interests?\n",
      "9. Have you thought about the lifestyle you want and how it could be funded by different career choices?\n",
      "10. Are you willing to invest time and possibly further education to convert your interests into a profitable profession?\n"
     ]
    }
   ],
   "source": [
    "big_question = \"\"\"\n",
    "I want to spend my professional life working on things that I'm incredibly curious about and interested in, but I find nearly everything interesting (I have nearly endless curiosity, for better or for worse), and at the same time I'm not sure what subject will allow me to make a financially stable living. \n",
    "What should I do?\n",
    "\"\"\"\n",
    "answers = chain.run(big_question)\n",
    "for answer in answers:\n",
    "    print(answer)"
   ]
  },
  {
   "cell_type": "markdown",
   "id": "b113fcd8",
   "metadata": {},
   "source": [
    "# Thought and response, single exchange"
   ]
  },
  {
   "cell_type": "code",
   "execution_count": 25,
   "id": "718517f5",
   "metadata": {},
   "outputs": [],
   "source": [
    "chat_model = ChatOpenAI(openai_api_key=openai_secret_key, model_name='gpt-4', temperature=1.2)"
   ]
  },
  {
   "cell_type": "code",
   "execution_count": 36,
   "id": "a28c8adf",
   "metadata": {},
   "outputs": [],
   "source": [
    "thought_template = \"\"\"\n",
    "You are a subversive-minded brainstorming companion. Your job is to employ your theory of mind skills to generate a prediction about the user's mental state.\n",
    "Generate a thought that makes a prediction about the user's needs given current dialogue and also lists other pieces of data that would help improve your prediction\n",
    "\"\"\"\n",
    "system_thought = SystemMessagePromptTemplate.from_template(thought_template)\n",
    "human_template = \"{text}\"\n",
    "human_message_prompt = HumanMessagePromptTemplate.from_template(human_template)\n",
    "\n",
    "thought_prompt = ChatPromptTemplate.from_messages([system_thought, human_message_prompt])\n",
    "\n",
    "thought_chain = LLMChain(\n",
    "    llm=chat_model,\n",
    "    prompt=thought_prompt,\n",
    ")"
   ]
  },
  {
   "cell_type": "code",
   "execution_count": 31,
   "id": "e0171b7a",
   "metadata": {
    "scrolled": true
   },
   "outputs": [
    {
     "name": "stdout",
     "output_type": "stream",
     "text": [
      "Thought: The user appears to be in an introspective and slightly overwhelmed state while also feeling a sense of urgency or concern about finding a career path that integrates their broad set of interests with financial stability. This user might be needing some practical guidance, reassurance, and structured thinking to help them narrow down feasible options while addressing their key worries about discovering one's life purpose or career.\n",
      "\n",
      "Additional data that would improve prediction:\n",
      "\n",
      "1. Specific areas of interest: It will be essential to understand more specifically which fields the user finds most appealing to further guide this individual in their career choice.\n",
      "\n",
      "2. Age & Education level: The user’s age can be insightful to know the stage of life they're in- are they a student, mid-career professional, at retirement? Their educational background can give insight into their expertise / qualifications for certain kinds of work.\n",
      "\n",
      "3. Previous work history: Previous jobs would provide insight into areas where the user may already have experience and potentially guide toward paths that could be both natural and profitable transitions.\n",
      "\n",
      "4. Personal life circumstances: Things like living location, personal responsibilities, financial obligations, etc.\n",
      "\n",
      "5. Their definition of professional satisfaction and personal ambition: This insight would further clarify their expected final outcomes or targets.\n",
      "    \n",
      "6. Constraints: Understanding what this user definitely does not want to consider as a career option. Are there any deal-breakers?\n"
     ]
    }
   ],
   "source": [
    "big_question = \"\"\"\n",
    "I want to spend my professional life working on things that I'm incredibly curious about and interested in, but I find nearly everything interesting (I have nearly endless curiosity, for better or for worse), and at the same time I'm not sure what subject will allow me to make a financially stable living. \n",
    "What should I do?\n",
    "\"\"\"\n",
    "thought = thought_chain.run(big_question)\n",
    "print(thought)"
   ]
  },
  {
   "cell_type": "code",
   "execution_count": 37,
   "id": "c77ed08a",
   "metadata": {},
   "outputs": [],
   "source": [
    "response_template = \"\"\"\n",
    "You are a subversive-minded brainstorming companion. \n",
    "Your fundamental belief is that complex questions are best dealt with by breaking them down into simpler, more actionable ones.\n",
    "\n",
    "{thought}\n",
    "\n",
    "The user will input a question and you will return TEN smaller questions that stimulate their curiosity, are easier to answer and are worth exploring in order for the user to make progress on the big question.  \n",
    "Respond with questions that are atomic - ensure each question focuses solely on one clear and distinct topic or point, avoiding any elements that could introduce ambiguity or multiple interpretations.\n",
    "Respond with questions that are likely to seem novel to them, to surprise them, to approach the big question from an unusual perspective, or to challenge their current set of ideas and assumptions.\n",
    "Reply ONLY with a list of the break-down questions and nothing more.\n",
    "\"\"\"\n",
    "system_response = SystemMessagePromptTemplate.from_template(response_template)\n",
    "human_template = \"{text}\"\n",
    "human_message_prompt = HumanMessagePromptTemplate.from_template(human_template)\n",
    "\n",
    "response_prompt = ChatPromptTemplate.from_messages([system_response, human_message_prompt])\n",
    "\n",
    "response_chain = LLMChain(\n",
    "    llm=chat_model,\n",
    "    prompt=response_prompt,\n",
    "    output_parser=CommaSeparatedListOutputParser()\n",
    ")"
   ]
  },
  {
   "cell_type": "code",
   "execution_count": 39,
   "id": "912ff772",
   "metadata": {},
   "outputs": [
    {
     "name": "stdout",
     "output_type": "stream",
     "text": [
      "1. If you had to discuss a single topic one whole day without getting bored, what would it be?\n",
      "2. When do you typically find yourself most energized and enthused - while observing, learning, or solving problems?\n",
      "3. Is there a certain type of impact that you dream of making within a particular community or sector?\n",
      "4. What types of work do you find yourself voluntarily doing and enjoying in your free time?\n",
      "5. Have there been any moments in your life where, when following your curiosity, you found unexpected economic opportunities?\n",
      "6. Considering monetary regard, are there tasks or roles you're good at yet undervalue due to lack of interest in them?\n",
      "7. Think about your perfect day—what does it include, and can any aspect of it be tied to a viable professional endeavor?\n",
      "8. What skills or experiences you’ve garnered so far that would have a high market value to others?\n",
      "9. Are there unconventional career paths that combine many interests, but at which not many people excel?\n",
      "10. Have you considered talking to people working in fields you find fascinating, to understand what their professional earnings and career progression might look like?\n"
     ]
    }
   ],
   "source": [
    "big_question = \"\"\"\n",
    "I want to spend my professional life working on things that I'm incredibly curious about and interested in, but I find nearly everything interesting (I have nearly endless curiosity, for better or for worse), and at the same time I'm not sure what subject will allow me to make a financially stable living. \n",
    "What should I do?\n",
    "\"\"\"\n",
    "response = response_chain.run(text=big_question, thought=thought)\n",
    "print(response)"
   ]
  },
  {
   "cell_type": "code",
   "execution_count": null,
   "id": "790a0246",
   "metadata": {},
   "outputs": [],
   "source": []
  }
 ],
 "metadata": {
  "kernelspec": {
   "display_name": "Python 3 (ipykernel)",
   "language": "python",
   "name": "python3"
  },
  "language_info": {
   "codemirror_mode": {
    "name": "ipython",
    "version": 3
   },
   "file_extension": ".py",
   "mimetype": "text/x-python",
   "name": "python",
   "nbconvert_exporter": "python",
   "pygments_lexer": "ipython3",
   "version": "3.11.4"
  }
 },
 "nbformat": 4,
 "nbformat_minor": 5
}
