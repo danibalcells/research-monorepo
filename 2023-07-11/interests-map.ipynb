{
 "cells": [
  {
   "cell_type": "code",
   "execution_count": 76,
   "id": "69aa4724",
   "metadata": {},
   "outputs": [],
   "source": [
    "import pandas as pd\n",
    "import numpy as np\n",
    "import plotly.express as px\n",
    "import openai\n",
    "from openai.embeddings_utils import get_embedding\n",
    "from sklearn.manifold import TSNE\n",
    "\n",
    "with open('openai_secret_key') as r:\n",
    "    openai_secret_key = r.readline().strip()\n",
    "    openai.api_key = openai_secret_key"
   ]
  },
  {
   "cell_type": "code",
   "execution_count": 36,
   "id": "5a82dc39",
   "metadata": {},
   "outputs": [],
   "source": [
    "input_path = 'interests_raw.txt'\n",
    "with open(input_path) as f:\n",
    "    interests = pd.read_csv(f)"
   ]
  },
  {
   "cell_type": "code",
   "execution_count": 26,
   "id": "7c1bee53",
   "metadata": {},
   "outputs": [],
   "source": [
    "# embedding model parameters\n",
    "embedding_model = \"text-embedding-ada-002\"\n",
    "embedding_encoding = \"cl100k_base\"  # this the encoding for text-embedding-ada-002\n",
    "max_tokens = 8000  # the maximum for text-embedding-ada-002 is 8191"
   ]
  },
  {
   "cell_type": "code",
   "execution_count": 38,
   "id": "6f013100",
   "metadata": {},
   "outputs": [],
   "source": [
    "interests.name = interests.name.apply(str.lower)\n",
    "interests.drop_duplicates('name', inplace=True)"
   ]
  },
  {
   "cell_type": "code",
   "execution_count": 85,
   "id": "88a2390e",
   "metadata": {},
   "outputs": [],
   "source": [
    "interests = pd.read_csv('interests_clean.csv')"
   ]
  },
  {
   "cell_type": "code",
   "execution_count": 89,
   "id": "bca0dbcc",
   "metadata": {},
   "outputs": [],
   "source": [
    "embeddings = openai.Embedding.create(input=interests.name.tolist(), model=embedding_model)['data']\n",
    "interests['embedding'] = [e['embedding'] for e in embeddings]"
   ]
  },
  {
   "cell_type": "code",
   "execution_count": 92,
   "id": "13921f13",
   "metadata": {},
   "outputs": [],
   "source": [
    "embeddings_matrix = np.array(interests.embedding.values.tolist())\n",
    "tsne = TSNE(n_components=2, perplexity=15, random_state=42, init='random', learning_rate=200)\n",
    "vis_dims = tsne.fit_transform(embeddings_matrix)\n",
    "interests[['vis_dim1', 'vis_dim2']] = vis_dims"
   ]
  },
  {
   "cell_type": "code",
   "execution_count": 94,
   "id": "15ccfb12",
   "metadata": {},
   "outputs": [
    {
     "data": {
      "application/vnd.plotly.v1+json": {
       "config": {
        "plotlyServerURL": "https://plot.ly"
       },
       "data": [
        {
         "customdata": [
          [
           "history"
          ],
          [
           "politics"
          ],
          [
           "war"
          ],
          [
           "ideology"
          ],
          [
           "economics"
          ],
          [
           "business"
          ],
          [
           "culture"
          ],
          [
           "society"
          ],
          [
           "sociology"
          ],
          [
           "institutionalized religion"
          ],
          [
           "psychology"
          ],
          [
           "perception"
          ],
          [
           "cognition"
          ],
          [
           "intuition"
          ],
          [
           "non-linear thinking"
          ],
          [
           "emotions"
          ],
          [
           "spirituality"
          ],
          [
           "mind palaces"
          ],
          [
           "knowledge graphs"
          ],
          [
           "intimacy"
          ],
          [
           "connection"
          ],
          [
           "presence"
          ],
          [
           "relatedness"
          ],
          [
           "friendship"
          ],
          [
           "love"
          ],
          [
           "seduction"
          ],
          [
           "persuasion"
          ],
          [
           "conviction"
          ],
          [
           "agreement"
          ],
          [
           "compromise"
          ],
          [
           "negotiation"
          ],
          [
           "networking"
          ],
          [
           "physics"
          ],
          [
           "the fabric of reality"
          ],
          [
           "the origin of the universe"
          ],
          [
           "the nature of space and time"
          ],
          [
           "the origin and continuous evolution of the earth"
          ],
          [
           "volcanoes"
          ],
          [
           "nature"
          ],
          [
           "the ocean"
          ],
          [
           "music"
          ],
          [
           "acoustics"
          ],
          [
           "sound processing"
          ],
          [
           "photography"
          ],
          [
           "art"
          ],
          [
           "beauty"
          ],
          [
           "justice"
          ],
          [
           "social good"
          ],
          [
           "health"
          ],
          [
           "sharing"
          ],
          [
           "community"
          ],
          [
           "giving back"
          ],
          [
           "helping those in need"
          ],
          [
           "selflessness"
          ],
          [
           "technology"
          ],
          [
           "media"
          ],
          [
           "craft"
          ],
          [
           "engineering"
          ],
          [
           "programming"
          ],
          [
           "communications"
          ],
          [
           "the internet"
          ],
          [
           "artificial intelligence"
          ],
          [
           "math"
          ],
          [
           "probability"
          ],
          [
           "travel"
          ],
          [
           "distance"
          ],
          [
           "aviation"
          ],
          [
           "transportation systems"
          ],
          [
           "road trips"
          ],
          [
           "literature"
          ],
          [
           "storytelling"
          ],
          [
           "the social and psychological power of narratives"
          ],
          [
           "non-narrative existence"
          ],
          [
           "the impact of technology on human behavior and society"
          ],
          [
           "languages"
          ],
          [
           "dialects"
          ],
          [
           "accents"
          ],
          [
           "class relations"
          ],
          [
           "the spectrum of personalities"
          ],
          [
           "the spectrum of cultures"
          ],
          [
           "the spectrum from personality to culture"
          ],
          [
           "“people are more different within groups than between groups”"
          ],
          [
           "metaphors"
          ],
          [
           "parallels"
          ],
          [
           "symbols"
          ],
          [
           "spectrums"
          ],
          [
           "comparisons"
          ],
          [
           "memes"
          ],
          [
           "referential humor"
          ],
          [
           "process"
          ],
          [
           "the joy of abstraction"
          ],
          [
           "curiosity and discovery"
          ],
          [
           "the joy of learning"
          ],
          [
           "creativity"
          ],
          [
           "maps"
          ],
          [
           "aerial shots"
          ],
          [
           "high-altitude mountaineering"
          ],
          [
           "rock climbing"
          ],
          [
           "backpacking"
          ],
          [
           "martial arts"
          ],
          [
           "boxing"
          ],
          [
           "chess"
          ],
          [
           "strategy"
          ],
          [
           "tactics"
          ],
          [
           "spontaneity"
          ],
          [
           "improvisation"
          ]
         ],
         "hovertemplate": "vis_dim1=%{x}<br>vis_dim2=%{y}<br>name=%{customdata[0]}<extra></extra>",
         "legendgroup": "",
         "marker": {
          "color": "#636efa",
          "symbol": "circle"
         },
         "mode": "markers",
         "name": "",
         "orientation": "v",
         "showlegend": false,
         "type": "scatter",
         "x": [
          -17.706579208374023,
          -16.79021644592285,
          2.5506136417388916,
          11.059896469116211,
          -40.77735137939453,
          13.272588729858398,
          -20.96632957458496,
          -21.49809455871582,
          -14.985965728759766,
          0.2811022698879242,
          -8.453853607177734,
          22.684053421020508,
          28.25385284423828,
          19.387338638305664,
          38.808921813964844,
          25.79915428161621,
          2.3708577156066895,
          39.85737228393555,
          33.626407623291016,
          26.48277473449707,
          -1.275721788406372,
          -8.715470314025879,
          27.610034942626953,
          21.13397979736328,
          6.690661430358887,
          13.499628067016602,
          11.833650588989258,
          9.590725898742676,
          -3.970284938812256,
          -10.474668502807617,
          -5.421258449554443,
          -11.971052169799805,
          2.1665732860565186,
          -47.0716667175293,
          -47.43864059448242,
          -47.94865036010742,
          -44.675777435302734,
          52.01118469238281,
          -15.60611629486084,
          -28.219655990600586,
          -11.499435424804688,
          -49.60289764404297,
          -44.40583419799805,
          155.78684997558594,
          -8.620262145996094,
          8.808626174926758,
          -20.889137268066406,
          59.75860595703125,
          -10.295952796936035,
          3.2946107387542725,
          -26.757946014404297,
          71.01836395263672,
          67.80730438232422,
          61.55896759033203,
          3.9458203315734863,
          -9.496376991271973,
          -4.325357437133789,
          1.2735322713851929,
          -23.2482852935791,
          -4.714666366577148,
          -20.28607940673828,
          -3.6342852115631104,
          6.195864677429199,
          -14.987747192382812,
          23.04159164428711,
          9.68446159362793,
          -34.89838790893555,
          22.844547271728516,
          29.28401756286621,
          -17.44409942626953,
          50.89064025878906,
          -106.60305786132812,
          -6.385200023651123,
          -29.73735809326172,
          -34.109291076660156,
          -46.303199768066406,
          -52.10639572143555,
          32.593994140625,
          -74.1436996459961,
          -67.12602996826172,
          -69.03584289550781,
          -73.79292297363281,
          54.123958587646484,
          63.69968795776367,
          -36.171661376953125,
          -70.94738006591797,
          68.5546875,
          47.60629653930664,
          47.98031997680664,
          -26.42314910888672,
          72.45606231689453,
          60.40439987182617,
          67.11266326904297,
          44.22617721557617,
          -37.19157028198242,
          -43.32402420043945,
          46.789527893066406,
          49.34659194946289,
          35.29589080810547,
          20.967586517333984,
          17.231246948242188,
          7.149445056915283,
          24.798500061035156,
          29.466880798339844,
          50.413238525390625,
          46.30430221557617
         ],
         "xaxis": "x",
         "y": [
          9.441795349121094,
          -28.014123916625977,
          13.158960342407227,
          -33.604469299316406,
          -17.398242950439453,
          30.617389678955078,
          16.287803649902344,
          -19.072511672973633,
          -17.9082088470459,
          -28.69601058959961,
          -17.781543731689453,
          -44.62065505981445,
          -47.3520622253418,
          -39.271087646484375,
          -40.709999084472656,
          -33.41282272338867,
          -20.14202880859375,
          -54.41100311279297,
          -60.00202941894531,
          -18.768543243408203,
          55.00627136230469,
          65.53398132324219,
          -12.04634952545166,
          -11.762197494506836,
          4.796031951904297,
          -61.398902893066406,
          -55.743751525878906,
          -48.76276397705078,
          -67.03111267089844,
          -67.82477569580078,
          -60.76226043701172,
          -43.74763107299805,
          38.457035064697266,
          -33.46698760986328,
          -47.55562973022461,
          -40.455657958984375,
          -52.24241256713867,
          59.28847885131836,
          19.46335220336914,
          -44.27567672729492,
          35.79594039916992,
          61.4529914855957,
          63.802425384521484,
          41.13824462890625,
          27.005552291870117,
          -9.805535316467285,
          28.140762329101562,
          -52.973609924316406,
          11.150894165039062,
          63.048763275146484,
          19.405237197875977,
          -40.600582122802734,
          -45.012027740478516,
          -36.170928955078125,
          26.071578979492188,
          43.665771484375,
          22.861000061035156,
          30.992877960205078,
          43.243370056152344,
          49.61764144897461,
          -43.596431732177734,
          -2.761157751083374,
          42.83815383911133,
          60.399662017822266,
          50.99297332763672,
          54.12628936767578,
          2.9729628562927246,
          67.35075378417969,
          52.93388748168945,
          -6.499213218688965,
          24.722286224365234,
          -54.70106506347656,
          79.81587219238281,
          -15.348321914672852,
          31.47833251953125,
          25.55495834350586,
          27.82935905456543,
          -6.486771583557129,
          5.204928398132324,
          8.647061347961426,
          2.241960048675537,
          -5.824731826782227,
          6.782244682312012,
          8.327920913696289,
          38.07807159423828,
          15.579102516174316,
          10.66646957397461,
          5.124685287475586,
          13.480704307556152,
          51.10103988647461,
          -13.0383939743042,
          -15.953849792480469,
          -14.991744995117188,
          -30.961843490600586,
          45.80825424194336,
          2.0107812881469727,
          45.5753059387207,
          50.503047943115234,
          50.25597381591797,
          10.84613037109375,
          14.998785018920898,
          -135.5714874267578,
          29.333106994628906,
          25.287919998168945,
          -27.376392364501953,
          -22.973329544067383
         ],
         "yaxis": "y"
        }
       ],
       "layout": {
        "legend": {
         "tracegroupgap": 0
        },
        "margin": {
         "t": 60
        },
        "template": {
         "data": {
          "bar": [
           {
            "error_x": {
             "color": "#2a3f5f"
            },
            "error_y": {
             "color": "#2a3f5f"
            },
            "marker": {
             "line": {
              "color": "#E5ECF6",
              "width": 0.5
             },
             "pattern": {
              "fillmode": "overlay",
              "size": 10,
              "solidity": 0.2
             }
            },
            "type": "bar"
           }
          ],
          "barpolar": [
           {
            "marker": {
             "line": {
              "color": "#E5ECF6",
              "width": 0.5
             },
             "pattern": {
              "fillmode": "overlay",
              "size": 10,
              "solidity": 0.2
             }
            },
            "type": "barpolar"
           }
          ],
          "carpet": [
           {
            "aaxis": {
             "endlinecolor": "#2a3f5f",
             "gridcolor": "white",
             "linecolor": "white",
             "minorgridcolor": "white",
             "startlinecolor": "#2a3f5f"
            },
            "baxis": {
             "endlinecolor": "#2a3f5f",
             "gridcolor": "white",
             "linecolor": "white",
             "minorgridcolor": "white",
             "startlinecolor": "#2a3f5f"
            },
            "type": "carpet"
           }
          ],
          "choropleth": [
           {
            "colorbar": {
             "outlinewidth": 0,
             "ticks": ""
            },
            "type": "choropleth"
           }
          ],
          "contour": [
           {
            "colorbar": {
             "outlinewidth": 0,
             "ticks": ""
            },
            "colorscale": [
             [
              0,
              "#0d0887"
             ],
             [
              0.1111111111111111,
              "#46039f"
             ],
             [
              0.2222222222222222,
              "#7201a8"
             ],
             [
              0.3333333333333333,
              "#9c179e"
             ],
             [
              0.4444444444444444,
              "#bd3786"
             ],
             [
              0.5555555555555556,
              "#d8576b"
             ],
             [
              0.6666666666666666,
              "#ed7953"
             ],
             [
              0.7777777777777778,
              "#fb9f3a"
             ],
             [
              0.8888888888888888,
              "#fdca26"
             ],
             [
              1,
              "#f0f921"
             ]
            ],
            "type": "contour"
           }
          ],
          "contourcarpet": [
           {
            "colorbar": {
             "outlinewidth": 0,
             "ticks": ""
            },
            "type": "contourcarpet"
           }
          ],
          "heatmap": [
           {
            "colorbar": {
             "outlinewidth": 0,
             "ticks": ""
            },
            "colorscale": [
             [
              0,
              "#0d0887"
             ],
             [
              0.1111111111111111,
              "#46039f"
             ],
             [
              0.2222222222222222,
              "#7201a8"
             ],
             [
              0.3333333333333333,
              "#9c179e"
             ],
             [
              0.4444444444444444,
              "#bd3786"
             ],
             [
              0.5555555555555556,
              "#d8576b"
             ],
             [
              0.6666666666666666,
              "#ed7953"
             ],
             [
              0.7777777777777778,
              "#fb9f3a"
             ],
             [
              0.8888888888888888,
              "#fdca26"
             ],
             [
              1,
              "#f0f921"
             ]
            ],
            "type": "heatmap"
           }
          ],
          "heatmapgl": [
           {
            "colorbar": {
             "outlinewidth": 0,
             "ticks": ""
            },
            "colorscale": [
             [
              0,
              "#0d0887"
             ],
             [
              0.1111111111111111,
              "#46039f"
             ],
             [
              0.2222222222222222,
              "#7201a8"
             ],
             [
              0.3333333333333333,
              "#9c179e"
             ],
             [
              0.4444444444444444,
              "#bd3786"
             ],
             [
              0.5555555555555556,
              "#d8576b"
             ],
             [
              0.6666666666666666,
              "#ed7953"
             ],
             [
              0.7777777777777778,
              "#fb9f3a"
             ],
             [
              0.8888888888888888,
              "#fdca26"
             ],
             [
              1,
              "#f0f921"
             ]
            ],
            "type": "heatmapgl"
           }
          ],
          "histogram": [
           {
            "marker": {
             "pattern": {
              "fillmode": "overlay",
              "size": 10,
              "solidity": 0.2
             }
            },
            "type": "histogram"
           }
          ],
          "histogram2d": [
           {
            "colorbar": {
             "outlinewidth": 0,
             "ticks": ""
            },
            "colorscale": [
             [
              0,
              "#0d0887"
             ],
             [
              0.1111111111111111,
              "#46039f"
             ],
             [
              0.2222222222222222,
              "#7201a8"
             ],
             [
              0.3333333333333333,
              "#9c179e"
             ],
             [
              0.4444444444444444,
              "#bd3786"
             ],
             [
              0.5555555555555556,
              "#d8576b"
             ],
             [
              0.6666666666666666,
              "#ed7953"
             ],
             [
              0.7777777777777778,
              "#fb9f3a"
             ],
             [
              0.8888888888888888,
              "#fdca26"
             ],
             [
              1,
              "#f0f921"
             ]
            ],
            "type": "histogram2d"
           }
          ],
          "histogram2dcontour": [
           {
            "colorbar": {
             "outlinewidth": 0,
             "ticks": ""
            },
            "colorscale": [
             [
              0,
              "#0d0887"
             ],
             [
              0.1111111111111111,
              "#46039f"
             ],
             [
              0.2222222222222222,
              "#7201a8"
             ],
             [
              0.3333333333333333,
              "#9c179e"
             ],
             [
              0.4444444444444444,
              "#bd3786"
             ],
             [
              0.5555555555555556,
              "#d8576b"
             ],
             [
              0.6666666666666666,
              "#ed7953"
             ],
             [
              0.7777777777777778,
              "#fb9f3a"
             ],
             [
              0.8888888888888888,
              "#fdca26"
             ],
             [
              1,
              "#f0f921"
             ]
            ],
            "type": "histogram2dcontour"
           }
          ],
          "mesh3d": [
           {
            "colorbar": {
             "outlinewidth": 0,
             "ticks": ""
            },
            "type": "mesh3d"
           }
          ],
          "parcoords": [
           {
            "line": {
             "colorbar": {
              "outlinewidth": 0,
              "ticks": ""
             }
            },
            "type": "parcoords"
           }
          ],
          "pie": [
           {
            "automargin": true,
            "type": "pie"
           }
          ],
          "scatter": [
           {
            "fillpattern": {
             "fillmode": "overlay",
             "size": 10,
             "solidity": 0.2
            },
            "type": "scatter"
           }
          ],
          "scatter3d": [
           {
            "line": {
             "colorbar": {
              "outlinewidth": 0,
              "ticks": ""
             }
            },
            "marker": {
             "colorbar": {
              "outlinewidth": 0,
              "ticks": ""
             }
            },
            "type": "scatter3d"
           }
          ],
          "scattercarpet": [
           {
            "marker": {
             "colorbar": {
              "outlinewidth": 0,
              "ticks": ""
             }
            },
            "type": "scattercarpet"
           }
          ],
          "scattergeo": [
           {
            "marker": {
             "colorbar": {
              "outlinewidth": 0,
              "ticks": ""
             }
            },
            "type": "scattergeo"
           }
          ],
          "scattergl": [
           {
            "marker": {
             "colorbar": {
              "outlinewidth": 0,
              "ticks": ""
             }
            },
            "type": "scattergl"
           }
          ],
          "scattermapbox": [
           {
            "marker": {
             "colorbar": {
              "outlinewidth": 0,
              "ticks": ""
             }
            },
            "type": "scattermapbox"
           }
          ],
          "scatterpolar": [
           {
            "marker": {
             "colorbar": {
              "outlinewidth": 0,
              "ticks": ""
             }
            },
            "type": "scatterpolar"
           }
          ],
          "scatterpolargl": [
           {
            "marker": {
             "colorbar": {
              "outlinewidth": 0,
              "ticks": ""
             }
            },
            "type": "scatterpolargl"
           }
          ],
          "scatterternary": [
           {
            "marker": {
             "colorbar": {
              "outlinewidth": 0,
              "ticks": ""
             }
            },
            "type": "scatterternary"
           }
          ],
          "surface": [
           {
            "colorbar": {
             "outlinewidth": 0,
             "ticks": ""
            },
            "colorscale": [
             [
              0,
              "#0d0887"
             ],
             [
              0.1111111111111111,
              "#46039f"
             ],
             [
              0.2222222222222222,
              "#7201a8"
             ],
             [
              0.3333333333333333,
              "#9c179e"
             ],
             [
              0.4444444444444444,
              "#bd3786"
             ],
             [
              0.5555555555555556,
              "#d8576b"
             ],
             [
              0.6666666666666666,
              "#ed7953"
             ],
             [
              0.7777777777777778,
              "#fb9f3a"
             ],
             [
              0.8888888888888888,
              "#fdca26"
             ],
             [
              1,
              "#f0f921"
             ]
            ],
            "type": "surface"
           }
          ],
          "table": [
           {
            "cells": {
             "fill": {
              "color": "#EBF0F8"
             },
             "line": {
              "color": "white"
             }
            },
            "header": {
             "fill": {
              "color": "#C8D4E3"
             },
             "line": {
              "color": "white"
             }
            },
            "type": "table"
           }
          ]
         },
         "layout": {
          "annotationdefaults": {
           "arrowcolor": "#2a3f5f",
           "arrowhead": 0,
           "arrowwidth": 1
          },
          "autotypenumbers": "strict",
          "coloraxis": {
           "colorbar": {
            "outlinewidth": 0,
            "ticks": ""
           }
          },
          "colorscale": {
           "diverging": [
            [
             0,
             "#8e0152"
            ],
            [
             0.1,
             "#c51b7d"
            ],
            [
             0.2,
             "#de77ae"
            ],
            [
             0.3,
             "#f1b6da"
            ],
            [
             0.4,
             "#fde0ef"
            ],
            [
             0.5,
             "#f7f7f7"
            ],
            [
             0.6,
             "#e6f5d0"
            ],
            [
             0.7,
             "#b8e186"
            ],
            [
             0.8,
             "#7fbc41"
            ],
            [
             0.9,
             "#4d9221"
            ],
            [
             1,
             "#276419"
            ]
           ],
           "sequential": [
            [
             0,
             "#0d0887"
            ],
            [
             0.1111111111111111,
             "#46039f"
            ],
            [
             0.2222222222222222,
             "#7201a8"
            ],
            [
             0.3333333333333333,
             "#9c179e"
            ],
            [
             0.4444444444444444,
             "#bd3786"
            ],
            [
             0.5555555555555556,
             "#d8576b"
            ],
            [
             0.6666666666666666,
             "#ed7953"
            ],
            [
             0.7777777777777778,
             "#fb9f3a"
            ],
            [
             0.8888888888888888,
             "#fdca26"
            ],
            [
             1,
             "#f0f921"
            ]
           ],
           "sequentialminus": [
            [
             0,
             "#0d0887"
            ],
            [
             0.1111111111111111,
             "#46039f"
            ],
            [
             0.2222222222222222,
             "#7201a8"
            ],
            [
             0.3333333333333333,
             "#9c179e"
            ],
            [
             0.4444444444444444,
             "#bd3786"
            ],
            [
             0.5555555555555556,
             "#d8576b"
            ],
            [
             0.6666666666666666,
             "#ed7953"
            ],
            [
             0.7777777777777778,
             "#fb9f3a"
            ],
            [
             0.8888888888888888,
             "#fdca26"
            ],
            [
             1,
             "#f0f921"
            ]
           ]
          },
          "colorway": [
           "#636efa",
           "#EF553B",
           "#00cc96",
           "#ab63fa",
           "#FFA15A",
           "#19d3f3",
           "#FF6692",
           "#B6E880",
           "#FF97FF",
           "#FECB52"
          ],
          "font": {
           "color": "#2a3f5f"
          },
          "geo": {
           "bgcolor": "white",
           "lakecolor": "white",
           "landcolor": "#E5ECF6",
           "showlakes": true,
           "showland": true,
           "subunitcolor": "white"
          },
          "hoverlabel": {
           "align": "left"
          },
          "hovermode": "closest",
          "mapbox": {
           "style": "light"
          },
          "paper_bgcolor": "white",
          "plot_bgcolor": "#E5ECF6",
          "polar": {
           "angularaxis": {
            "gridcolor": "white",
            "linecolor": "white",
            "ticks": ""
           },
           "bgcolor": "#E5ECF6",
           "radialaxis": {
            "gridcolor": "white",
            "linecolor": "white",
            "ticks": ""
           }
          },
          "scene": {
           "xaxis": {
            "backgroundcolor": "#E5ECF6",
            "gridcolor": "white",
            "gridwidth": 2,
            "linecolor": "white",
            "showbackground": true,
            "ticks": "",
            "zerolinecolor": "white"
           },
           "yaxis": {
            "backgroundcolor": "#E5ECF6",
            "gridcolor": "white",
            "gridwidth": 2,
            "linecolor": "white",
            "showbackground": true,
            "ticks": "",
            "zerolinecolor": "white"
           },
           "zaxis": {
            "backgroundcolor": "#E5ECF6",
            "gridcolor": "white",
            "gridwidth": 2,
            "linecolor": "white",
            "showbackground": true,
            "ticks": "",
            "zerolinecolor": "white"
           }
          },
          "shapedefaults": {
           "line": {
            "color": "#2a3f5f"
           }
          },
          "ternary": {
           "aaxis": {
            "gridcolor": "white",
            "linecolor": "white",
            "ticks": ""
           },
           "baxis": {
            "gridcolor": "white",
            "linecolor": "white",
            "ticks": ""
           },
           "bgcolor": "#E5ECF6",
           "caxis": {
            "gridcolor": "white",
            "linecolor": "white",
            "ticks": ""
           }
          },
          "title": {
           "x": 0.05
          },
          "xaxis": {
           "automargin": true,
           "gridcolor": "white",
           "linecolor": "white",
           "ticks": "",
           "title": {
            "standoff": 15
           },
           "zerolinecolor": "white",
           "zerolinewidth": 2
          },
          "yaxis": {
           "automargin": true,
           "gridcolor": "white",
           "linecolor": "white",
           "ticks": "",
           "title": {
            "standoff": 15
           },
           "zerolinecolor": "white",
           "zerolinewidth": 2
          }
         }
        },
        "xaxis": {
         "anchor": "y",
         "domain": [
          0,
          1
         ],
         "title": {
          "text": "vis_dim1"
         }
        },
        "yaxis": {
         "anchor": "x",
         "domain": [
          0,
          1
         ],
         "title": {
          "text": "vis_dim2"
         }
        }
       }
      },
      "text/html": [
       "<div>                            <div id=\"ade94b86-5939-421a-94c3-dd34e85d0247\" class=\"plotly-graph-div\" style=\"height:525px; width:100%;\"></div>            <script type=\"text/javascript\">                require([\"plotly\"], function(Plotly) {                    window.PLOTLYENV=window.PLOTLYENV || {};                                    if (document.getElementById(\"ade94b86-5939-421a-94c3-dd34e85d0247\")) {                    Plotly.newPlot(                        \"ade94b86-5939-421a-94c3-dd34e85d0247\",                        [{\"customdata\":[[\"history\"],[\"politics\"],[\"war\"],[\"ideology\"],[\"economics\"],[\"business\"],[\"culture\"],[\"society\"],[\"sociology\"],[\"institutionalized religion\"],[\"psychology\"],[\"perception\"],[\"cognition\"],[\"intuition\"],[\"non-linear thinking\"],[\"emotions\"],[\"spirituality\"],[\"mind palaces\"],[\"knowledge graphs\"],[\"intimacy\"],[\"connection\"],[\"presence\"],[\"relatedness\"],[\"friendship\"],[\"love\"],[\"seduction\"],[\"persuasion\"],[\"conviction\"],[\"agreement\"],[\"compromise\"],[\"negotiation\"],[\"networking\"],[\"physics\"],[\"the fabric of reality\"],[\"the origin of the universe\"],[\"the nature of space and time\"],[\"the origin and continuous evolution of the earth\"],[\"volcanoes\"],[\"nature\"],[\"the ocean\"],[\"music\"],[\"acoustics\"],[\"sound processing\"],[\"photography\"],[\"art\"],[\"beauty\"],[\"justice\"],[\"social good\"],[\"health\"],[\"sharing\"],[\"community\"],[\"giving back\"],[\"helping those in need\"],[\"selflessness\"],[\"technology\"],[\"media\"],[\"craft\"],[\"engineering\"],[\"programming\"],[\"communications\"],[\"the internet\"],[\"artificial intelligence\"],[\"math\"],[\"probability\"],[\"travel\"],[\"distance\"],[\"aviation\"],[\"transportation systems\"],[\"road trips\"],[\"literature\"],[\"storytelling\"],[\"the social and psychological power of narratives\"],[\"non-narrative existence\"],[\"the impact of technology on human behavior and society\"],[\"languages\"],[\"dialects\"],[\"accents\"],[\"class relations\"],[\"the spectrum of personalities\"],[\"the spectrum of cultures\"],[\"the spectrum from personality to culture\"],[\"\\u201cpeople are more different within groups than between groups\\u201d\"],[\"metaphors\"],[\"parallels\"],[\"symbols\"],[\"spectrums\"],[\"comparisons\"],[\"memes\"],[\"referential humor\"],[\"process\"],[\"the joy of abstraction\"],[\"curiosity and discovery\"],[\"the joy of learning\"],[\"creativity\"],[\"maps\"],[\"aerial shots\"],[\"high-altitude mountaineering\"],[\"rock climbing\"],[\"backpacking\"],[\"martial arts\"],[\"boxing\"],[\"chess\"],[\"strategy\"],[\"tactics\"],[\"spontaneity\"],[\"improvisation\"]],\"hovertemplate\":\"vis_dim1=%{x}\\u003cbr\\u003evis_dim2=%{y}\\u003cbr\\u003ename=%{customdata[0]}\\u003cextra\\u003e\\u003c\\u002fextra\\u003e\",\"legendgroup\":\"\",\"marker\":{\"color\":\"#636efa\",\"symbol\":\"circle\"},\"mode\":\"markers\",\"name\":\"\",\"orientation\":\"v\",\"showlegend\":false,\"x\":[-17.706579208374023,-16.79021644592285,2.5506136417388916,11.059896469116211,-40.77735137939453,13.272588729858398,-20.96632957458496,-21.49809455871582,-14.985965728759766,0.2811022698879242,-8.453853607177734,22.684053421020508,28.25385284423828,19.387338638305664,38.808921813964844,25.79915428161621,2.3708577156066895,39.85737228393555,33.626407623291016,26.48277473449707,-1.275721788406372,-8.715470314025879,27.610034942626953,21.13397979736328,6.690661430358887,13.499628067016602,11.833650588989258,9.590725898742676,-3.970284938812256,-10.474668502807617,-5.421258449554443,-11.971052169799805,2.1665732860565186,-47.0716667175293,-47.43864059448242,-47.94865036010742,-44.675777435302734,52.01118469238281,-15.60611629486084,-28.219655990600586,-11.499435424804688,-49.60289764404297,-44.40583419799805,155.78684997558594,-8.620262145996094,8.808626174926758,-20.889137268066406,59.75860595703125,-10.295952796936035,3.2946107387542725,-26.757946014404297,71.01836395263672,67.80730438232422,61.55896759033203,3.9458203315734863,-9.496376991271973,-4.325357437133789,1.2735322713851929,-23.2482852935791,-4.714666366577148,-20.28607940673828,-3.6342852115631104,6.195864677429199,-14.987747192382812,23.04159164428711,9.68446159362793,-34.89838790893555,22.844547271728516,29.28401756286621,-17.44409942626953,50.89064025878906,-106.60305786132812,-6.385200023651123,-29.73735809326172,-34.109291076660156,-46.303199768066406,-52.10639572143555,32.593994140625,-74.1436996459961,-67.12602996826172,-69.03584289550781,-73.79292297363281,54.123958587646484,63.69968795776367,-36.171661376953125,-70.94738006591797,68.5546875,47.60629653930664,47.98031997680664,-26.42314910888672,72.45606231689453,60.40439987182617,67.11266326904297,44.22617721557617,-37.19157028198242,-43.32402420043945,46.789527893066406,49.34659194946289,35.29589080810547,20.967586517333984,17.231246948242188,7.149445056915283,24.798500061035156,29.466880798339844,50.413238525390625,46.30430221557617],\"xaxis\":\"x\",\"y\":[9.441795349121094,-28.014123916625977,13.158960342407227,-33.604469299316406,-17.398242950439453,30.617389678955078,16.287803649902344,-19.072511672973633,-17.9082088470459,-28.69601058959961,-17.781543731689453,-44.62065505981445,-47.3520622253418,-39.271087646484375,-40.709999084472656,-33.41282272338867,-20.14202880859375,-54.41100311279297,-60.00202941894531,-18.768543243408203,55.00627136230469,65.53398132324219,-12.04634952545166,-11.762197494506836,4.796031951904297,-61.398902893066406,-55.743751525878906,-48.76276397705078,-67.03111267089844,-67.82477569580078,-60.76226043701172,-43.74763107299805,38.457035064697266,-33.46698760986328,-47.55562973022461,-40.455657958984375,-52.24241256713867,59.28847885131836,19.46335220336914,-44.27567672729492,35.79594039916992,61.4529914855957,63.802425384521484,41.13824462890625,27.005552291870117,-9.805535316467285,28.140762329101562,-52.973609924316406,11.150894165039062,63.048763275146484,19.405237197875977,-40.600582122802734,-45.012027740478516,-36.170928955078125,26.071578979492188,43.665771484375,22.861000061035156,30.992877960205078,43.243370056152344,49.61764144897461,-43.596431732177734,-2.761157751083374,42.83815383911133,60.399662017822266,50.99297332763672,54.12628936767578,2.9729628562927246,67.35075378417969,52.93388748168945,-6.499213218688965,24.722286224365234,-54.70106506347656,79.81587219238281,-15.348321914672852,31.47833251953125,25.55495834350586,27.82935905456543,-6.486771583557129,5.204928398132324,8.647061347961426,2.241960048675537,-5.824731826782227,6.782244682312012,8.327920913696289,38.07807159423828,15.579102516174316,10.66646957397461,5.124685287475586,13.480704307556152,51.10103988647461,-13.0383939743042,-15.953849792480469,-14.991744995117188,-30.961843490600586,45.80825424194336,2.0107812881469727,45.5753059387207,50.503047943115234,50.25597381591797,10.84613037109375,14.998785018920898,-135.5714874267578,29.333106994628906,25.287919998168945,-27.376392364501953,-22.973329544067383],\"yaxis\":\"y\",\"type\":\"scatter\"}],                        {\"template\":{\"data\":{\"histogram2dcontour\":[{\"type\":\"histogram2dcontour\",\"colorbar\":{\"outlinewidth\":0,\"ticks\":\"\"},\"colorscale\":[[0.0,\"#0d0887\"],[0.1111111111111111,\"#46039f\"],[0.2222222222222222,\"#7201a8\"],[0.3333333333333333,\"#9c179e\"],[0.4444444444444444,\"#bd3786\"],[0.5555555555555556,\"#d8576b\"],[0.6666666666666666,\"#ed7953\"],[0.7777777777777778,\"#fb9f3a\"],[0.8888888888888888,\"#fdca26\"],[1.0,\"#f0f921\"]]}],\"choropleth\":[{\"type\":\"choropleth\",\"colorbar\":{\"outlinewidth\":0,\"ticks\":\"\"}}],\"histogram2d\":[{\"type\":\"histogram2d\",\"colorbar\":{\"outlinewidth\":0,\"ticks\":\"\"},\"colorscale\":[[0.0,\"#0d0887\"],[0.1111111111111111,\"#46039f\"],[0.2222222222222222,\"#7201a8\"],[0.3333333333333333,\"#9c179e\"],[0.4444444444444444,\"#bd3786\"],[0.5555555555555556,\"#d8576b\"],[0.6666666666666666,\"#ed7953\"],[0.7777777777777778,\"#fb9f3a\"],[0.8888888888888888,\"#fdca26\"],[1.0,\"#f0f921\"]]}],\"heatmap\":[{\"type\":\"heatmap\",\"colorbar\":{\"outlinewidth\":0,\"ticks\":\"\"},\"colorscale\":[[0.0,\"#0d0887\"],[0.1111111111111111,\"#46039f\"],[0.2222222222222222,\"#7201a8\"],[0.3333333333333333,\"#9c179e\"],[0.4444444444444444,\"#bd3786\"],[0.5555555555555556,\"#d8576b\"],[0.6666666666666666,\"#ed7953\"],[0.7777777777777778,\"#fb9f3a\"],[0.8888888888888888,\"#fdca26\"],[1.0,\"#f0f921\"]]}],\"heatmapgl\":[{\"type\":\"heatmapgl\",\"colorbar\":{\"outlinewidth\":0,\"ticks\":\"\"},\"colorscale\":[[0.0,\"#0d0887\"],[0.1111111111111111,\"#46039f\"],[0.2222222222222222,\"#7201a8\"],[0.3333333333333333,\"#9c179e\"],[0.4444444444444444,\"#bd3786\"],[0.5555555555555556,\"#d8576b\"],[0.6666666666666666,\"#ed7953\"],[0.7777777777777778,\"#fb9f3a\"],[0.8888888888888888,\"#fdca26\"],[1.0,\"#f0f921\"]]}],\"contourcarpet\":[{\"type\":\"contourcarpet\",\"colorbar\":{\"outlinewidth\":0,\"ticks\":\"\"}}],\"contour\":[{\"type\":\"contour\",\"colorbar\":{\"outlinewidth\":0,\"ticks\":\"\"},\"colorscale\":[[0.0,\"#0d0887\"],[0.1111111111111111,\"#46039f\"],[0.2222222222222222,\"#7201a8\"],[0.3333333333333333,\"#9c179e\"],[0.4444444444444444,\"#bd3786\"],[0.5555555555555556,\"#d8576b\"],[0.6666666666666666,\"#ed7953\"],[0.7777777777777778,\"#fb9f3a\"],[0.8888888888888888,\"#fdca26\"],[1.0,\"#f0f921\"]]}],\"surface\":[{\"type\":\"surface\",\"colorbar\":{\"outlinewidth\":0,\"ticks\":\"\"},\"colorscale\":[[0.0,\"#0d0887\"],[0.1111111111111111,\"#46039f\"],[0.2222222222222222,\"#7201a8\"],[0.3333333333333333,\"#9c179e\"],[0.4444444444444444,\"#bd3786\"],[0.5555555555555556,\"#d8576b\"],[0.6666666666666666,\"#ed7953\"],[0.7777777777777778,\"#fb9f3a\"],[0.8888888888888888,\"#fdca26\"],[1.0,\"#f0f921\"]]}],\"mesh3d\":[{\"type\":\"mesh3d\",\"colorbar\":{\"outlinewidth\":0,\"ticks\":\"\"}}],\"scatter\":[{\"fillpattern\":{\"fillmode\":\"overlay\",\"size\":10,\"solidity\":0.2},\"type\":\"scatter\"}],\"parcoords\":[{\"type\":\"parcoords\",\"line\":{\"colorbar\":{\"outlinewidth\":0,\"ticks\":\"\"}}}],\"scatterpolargl\":[{\"type\":\"scatterpolargl\",\"marker\":{\"colorbar\":{\"outlinewidth\":0,\"ticks\":\"\"}}}],\"bar\":[{\"error_x\":{\"color\":\"#2a3f5f\"},\"error_y\":{\"color\":\"#2a3f5f\"},\"marker\":{\"line\":{\"color\":\"#E5ECF6\",\"width\":0.5},\"pattern\":{\"fillmode\":\"overlay\",\"size\":10,\"solidity\":0.2}},\"type\":\"bar\"}],\"scattergeo\":[{\"type\":\"scattergeo\",\"marker\":{\"colorbar\":{\"outlinewidth\":0,\"ticks\":\"\"}}}],\"scatterpolar\":[{\"type\":\"scatterpolar\",\"marker\":{\"colorbar\":{\"outlinewidth\":0,\"ticks\":\"\"}}}],\"histogram\":[{\"marker\":{\"pattern\":{\"fillmode\":\"overlay\",\"size\":10,\"solidity\":0.2}},\"type\":\"histogram\"}],\"scattergl\":[{\"type\":\"scattergl\",\"marker\":{\"colorbar\":{\"outlinewidth\":0,\"ticks\":\"\"}}}],\"scatter3d\":[{\"type\":\"scatter3d\",\"line\":{\"colorbar\":{\"outlinewidth\":0,\"ticks\":\"\"}},\"marker\":{\"colorbar\":{\"outlinewidth\":0,\"ticks\":\"\"}}}],\"scattermapbox\":[{\"type\":\"scattermapbox\",\"marker\":{\"colorbar\":{\"outlinewidth\":0,\"ticks\":\"\"}}}],\"scatterternary\":[{\"type\":\"scatterternary\",\"marker\":{\"colorbar\":{\"outlinewidth\":0,\"ticks\":\"\"}}}],\"scattercarpet\":[{\"type\":\"scattercarpet\",\"marker\":{\"colorbar\":{\"outlinewidth\":0,\"ticks\":\"\"}}}],\"carpet\":[{\"aaxis\":{\"endlinecolor\":\"#2a3f5f\",\"gridcolor\":\"white\",\"linecolor\":\"white\",\"minorgridcolor\":\"white\",\"startlinecolor\":\"#2a3f5f\"},\"baxis\":{\"endlinecolor\":\"#2a3f5f\",\"gridcolor\":\"white\",\"linecolor\":\"white\",\"minorgridcolor\":\"white\",\"startlinecolor\":\"#2a3f5f\"},\"type\":\"carpet\"}],\"table\":[{\"cells\":{\"fill\":{\"color\":\"#EBF0F8\"},\"line\":{\"color\":\"white\"}},\"header\":{\"fill\":{\"color\":\"#C8D4E3\"},\"line\":{\"color\":\"white\"}},\"type\":\"table\"}],\"barpolar\":[{\"marker\":{\"line\":{\"color\":\"#E5ECF6\",\"width\":0.5},\"pattern\":{\"fillmode\":\"overlay\",\"size\":10,\"solidity\":0.2}},\"type\":\"barpolar\"}],\"pie\":[{\"automargin\":true,\"type\":\"pie\"}]},\"layout\":{\"autotypenumbers\":\"strict\",\"colorway\":[\"#636efa\",\"#EF553B\",\"#00cc96\",\"#ab63fa\",\"#FFA15A\",\"#19d3f3\",\"#FF6692\",\"#B6E880\",\"#FF97FF\",\"#FECB52\"],\"font\":{\"color\":\"#2a3f5f\"},\"hovermode\":\"closest\",\"hoverlabel\":{\"align\":\"left\"},\"paper_bgcolor\":\"white\",\"plot_bgcolor\":\"#E5ECF6\",\"polar\":{\"bgcolor\":\"#E5ECF6\",\"angularaxis\":{\"gridcolor\":\"white\",\"linecolor\":\"white\",\"ticks\":\"\"},\"radialaxis\":{\"gridcolor\":\"white\",\"linecolor\":\"white\",\"ticks\":\"\"}},\"ternary\":{\"bgcolor\":\"#E5ECF6\",\"aaxis\":{\"gridcolor\":\"white\",\"linecolor\":\"white\",\"ticks\":\"\"},\"baxis\":{\"gridcolor\":\"white\",\"linecolor\":\"white\",\"ticks\":\"\"},\"caxis\":{\"gridcolor\":\"white\",\"linecolor\":\"white\",\"ticks\":\"\"}},\"coloraxis\":{\"colorbar\":{\"outlinewidth\":0,\"ticks\":\"\"}},\"colorscale\":{\"sequential\":[[0.0,\"#0d0887\"],[0.1111111111111111,\"#46039f\"],[0.2222222222222222,\"#7201a8\"],[0.3333333333333333,\"#9c179e\"],[0.4444444444444444,\"#bd3786\"],[0.5555555555555556,\"#d8576b\"],[0.6666666666666666,\"#ed7953\"],[0.7777777777777778,\"#fb9f3a\"],[0.8888888888888888,\"#fdca26\"],[1.0,\"#f0f921\"]],\"sequentialminus\":[[0.0,\"#0d0887\"],[0.1111111111111111,\"#46039f\"],[0.2222222222222222,\"#7201a8\"],[0.3333333333333333,\"#9c179e\"],[0.4444444444444444,\"#bd3786\"],[0.5555555555555556,\"#d8576b\"],[0.6666666666666666,\"#ed7953\"],[0.7777777777777778,\"#fb9f3a\"],[0.8888888888888888,\"#fdca26\"],[1.0,\"#f0f921\"]],\"diverging\":[[0,\"#8e0152\"],[0.1,\"#c51b7d\"],[0.2,\"#de77ae\"],[0.3,\"#f1b6da\"],[0.4,\"#fde0ef\"],[0.5,\"#f7f7f7\"],[0.6,\"#e6f5d0\"],[0.7,\"#b8e186\"],[0.8,\"#7fbc41\"],[0.9,\"#4d9221\"],[1,\"#276419\"]]},\"xaxis\":{\"gridcolor\":\"white\",\"linecolor\":\"white\",\"ticks\":\"\",\"title\":{\"standoff\":15},\"zerolinecolor\":\"white\",\"automargin\":true,\"zerolinewidth\":2},\"yaxis\":{\"gridcolor\":\"white\",\"linecolor\":\"white\",\"ticks\":\"\",\"title\":{\"standoff\":15},\"zerolinecolor\":\"white\",\"automargin\":true,\"zerolinewidth\":2},\"scene\":{\"xaxis\":{\"backgroundcolor\":\"#E5ECF6\",\"gridcolor\":\"white\",\"linecolor\":\"white\",\"showbackground\":true,\"ticks\":\"\",\"zerolinecolor\":\"white\",\"gridwidth\":2},\"yaxis\":{\"backgroundcolor\":\"#E5ECF6\",\"gridcolor\":\"white\",\"linecolor\":\"white\",\"showbackground\":true,\"ticks\":\"\",\"zerolinecolor\":\"white\",\"gridwidth\":2},\"zaxis\":{\"backgroundcolor\":\"#E5ECF6\",\"gridcolor\":\"white\",\"linecolor\":\"white\",\"showbackground\":true,\"ticks\":\"\",\"zerolinecolor\":\"white\",\"gridwidth\":2}},\"shapedefaults\":{\"line\":{\"color\":\"#2a3f5f\"}},\"annotationdefaults\":{\"arrowcolor\":\"#2a3f5f\",\"arrowhead\":0,\"arrowwidth\":1},\"geo\":{\"bgcolor\":\"white\",\"landcolor\":\"#E5ECF6\",\"subunitcolor\":\"white\",\"showland\":true,\"showlakes\":true,\"lakecolor\":\"white\"},\"title\":{\"x\":0.05},\"mapbox\":{\"style\":\"light\"}}},\"xaxis\":{\"anchor\":\"y\",\"domain\":[0.0,1.0],\"title\":{\"text\":\"vis_dim1\"}},\"yaxis\":{\"anchor\":\"x\",\"domain\":[0.0,1.0],\"title\":{\"text\":\"vis_dim2\"}},\"legend\":{\"tracegroupgap\":0},\"margin\":{\"t\":60}},                        {\"responsive\": true}                    ).then(function(){\n",
       "                            \n",
       "var gd = document.getElementById('ade94b86-5939-421a-94c3-dd34e85d0247');\n",
       "var x = new MutationObserver(function (mutations, observer) {{\n",
       "        var display = window.getComputedStyle(gd).display;\n",
       "        if (!display || display === 'none') {{\n",
       "            console.log([gd, 'removed!']);\n",
       "            Plotly.purge(gd);\n",
       "            observer.disconnect();\n",
       "        }}\n",
       "}});\n",
       "\n",
       "// Listen for the removal of the full notebook cells\n",
       "var notebookContainer = gd.closest('#notebook-container');\n",
       "if (notebookContainer) {{\n",
       "    x.observe(notebookContainer, {childList: true});\n",
       "}}\n",
       "\n",
       "// Listen for the clearing of the current output cell\n",
       "var outputEl = gd.closest('.output');\n",
       "if (outputEl) {{\n",
       "    x.observe(outputEl, {childList: true});\n",
       "}}\n",
       "\n",
       "                        })                };                });            </script>        </div>"
      ]
     },
     "metadata": {},
     "output_type": "display_data"
    }
   ],
   "source": [
    "fig = px.scatter(interests, x='vis_dim1', y='vis_dim2', hover_data='name')\n",
    "fig.show()"
   ]
  },
  {
   "cell_type": "code",
   "execution_count": 95,
   "id": "ee6d261d",
   "metadata": {},
   "outputs": [
    {
     "data": {
      "text/html": [
       "<div>\n",
       "<style scoped>\n",
       "    .dataframe tbody tr th:only-of-type {\n",
       "        vertical-align: middle;\n",
       "    }\n",
       "\n",
       "    .dataframe tbody tr th {\n",
       "        vertical-align: top;\n",
       "    }\n",
       "\n",
       "    .dataframe thead th {\n",
       "        text-align: right;\n",
       "    }\n",
       "</style>\n",
       "<table border=\"1\" class=\"dataframe\">\n",
       "  <thead>\n",
       "    <tr style=\"text-align: right;\">\n",
       "      <th></th>\n",
       "      <th>name</th>\n",
       "      <th>embedding</th>\n",
       "      <th>vis_dim1</th>\n",
       "      <th>vis_dim2</th>\n",
       "    </tr>\n",
       "  </thead>\n",
       "  <tbody>\n",
       "    <tr>\n",
       "      <th>0</th>\n",
       "      <td>history</td>\n",
       "      <td>[0.010230157524347305, -0.023113589733839035, ...</td>\n",
       "      <td>-17.706579</td>\n",
       "      <td>9.441795</td>\n",
       "    </tr>\n",
       "    <tr>\n",
       "      <th>1</th>\n",
       "      <td>politics</td>\n",
       "      <td>[-0.0014740151818841696, -0.024872785434126854...</td>\n",
       "      <td>-16.790216</td>\n",
       "      <td>-28.014124</td>\n",
       "    </tr>\n",
       "    <tr>\n",
       "      <th>2</th>\n",
       "      <td>war</td>\n",
       "      <td>[-0.006708966102451086, -0.01935657113790512, ...</td>\n",
       "      <td>2.550614</td>\n",
       "      <td>13.158960</td>\n",
       "    </tr>\n",
       "    <tr>\n",
       "      <th>3</th>\n",
       "      <td>ideology</td>\n",
       "      <td>[-0.00860591884702444, -0.019965188577771187, ...</td>\n",
       "      <td>11.059896</td>\n",
       "      <td>-33.604469</td>\n",
       "    </tr>\n",
       "    <tr>\n",
       "      <th>4</th>\n",
       "      <td>economics</td>\n",
       "      <td>[-0.00599592225626111, -0.03246382251381874, 0...</td>\n",
       "      <td>-40.777351</td>\n",
       "      <td>-17.398243</td>\n",
       "    </tr>\n",
       "    <tr>\n",
       "      <th>...</th>\n",
       "      <td>...</td>\n",
       "      <td>...</td>\n",
       "      <td>...</td>\n",
       "      <td>...</td>\n",
       "    </tr>\n",
       "    <tr>\n",
       "      <th>101</th>\n",
       "      <td>chess</td>\n",
       "      <td>[3.687150456244126e-05, -0.004298575222492218,...</td>\n",
       "      <td>7.149445</td>\n",
       "      <td>-135.571487</td>\n",
       "    </tr>\n",
       "    <tr>\n",
       "      <th>102</th>\n",
       "      <td>strategy</td>\n",
       "      <td>[-0.012461233884096146, -0.031092524528503418,...</td>\n",
       "      <td>24.798500</td>\n",
       "      <td>29.333107</td>\n",
       "    </tr>\n",
       "    <tr>\n",
       "      <th>103</th>\n",
       "      <td>tactics</td>\n",
       "      <td>[-0.024994798004627228, -0.009694055654108524,...</td>\n",
       "      <td>29.466881</td>\n",
       "      <td>25.287920</td>\n",
       "    </tr>\n",
       "    <tr>\n",
       "      <th>104</th>\n",
       "      <td>spontaneity</td>\n",
       "      <td>[-0.009901979006826878, -0.015062354505062103,...</td>\n",
       "      <td>50.413239</td>\n",
       "      <td>-27.376392</td>\n",
       "    </tr>\n",
       "    <tr>\n",
       "      <th>105</th>\n",
       "      <td>improvisation</td>\n",
       "      <td>[-0.02130754292011261, -0.005428506527096033, ...</td>\n",
       "      <td>46.304302</td>\n",
       "      <td>-22.973330</td>\n",
       "    </tr>\n",
       "  </tbody>\n",
       "</table>\n",
       "<p>106 rows × 4 columns</p>\n",
       "</div>"
      ],
      "text/plain": [
       "              name                                          embedding  \\\n",
       "0          history  [0.010230157524347305, -0.023113589733839035, ...   \n",
       "1         politics  [-0.0014740151818841696, -0.024872785434126854...   \n",
       "2              war  [-0.006708966102451086, -0.01935657113790512, ...   \n",
       "3         ideology  [-0.00860591884702444, -0.019965188577771187, ...   \n",
       "4        economics  [-0.00599592225626111, -0.03246382251381874, 0...   \n",
       "..             ...                                                ...   \n",
       "101          chess  [3.687150456244126e-05, -0.004298575222492218,...   \n",
       "102       strategy  [-0.012461233884096146, -0.031092524528503418,...   \n",
       "103        tactics  [-0.024994798004627228, -0.009694055654108524,...   \n",
       "104    spontaneity  [-0.009901979006826878, -0.015062354505062103,...   \n",
       "105  improvisation  [-0.02130754292011261, -0.005428506527096033, ...   \n",
       "\n",
       "      vis_dim1    vis_dim2  \n",
       "0   -17.706579    9.441795  \n",
       "1   -16.790216  -28.014124  \n",
       "2     2.550614   13.158960  \n",
       "3    11.059896  -33.604469  \n",
       "4   -40.777351  -17.398243  \n",
       "..         ...         ...  \n",
       "101   7.149445 -135.571487  \n",
       "102  24.798500   29.333107  \n",
       "103  29.466881   25.287920  \n",
       "104  50.413239  -27.376392  \n",
       "105  46.304302  -22.973330  \n",
       "\n",
       "[106 rows x 4 columns]"
      ]
     },
     "execution_count": 95,
     "metadata": {},
     "output_type": "execute_result"
    }
   ],
   "source": [
    "interests"
   ]
  },
  {
   "cell_type": "code",
   "execution_count": null,
   "id": "3398b939",
   "metadata": {},
   "outputs": [],
   "source": []
  }
 ],
 "metadata": {
  "kernelspec": {
   "display_name": "Python 3 (ipykernel)",
   "language": "python",
   "name": "python3"
  },
  "language_info": {
   "codemirror_mode": {
    "name": "ipython",
    "version": 3
   },
   "file_extension": ".py",
   "mimetype": "text/x-python",
   "name": "python",
   "nbconvert_exporter": "python",
   "pygments_lexer": "ipython3",
   "version": "3.11.4"
  }
 },
 "nbformat": 4,
 "nbformat_minor": 5
}
